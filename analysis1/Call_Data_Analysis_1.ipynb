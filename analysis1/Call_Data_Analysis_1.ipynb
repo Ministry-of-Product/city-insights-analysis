{
 "cells": [
  {
   "cell_type": "code",
   "execution_count": 5,
   "id": "9fc4c37d-d3d7-42ab-b19d-44212c38e28c",
   "metadata": {},
   "outputs": [
    {
     "data": {
      "text/html": [
       "<div>\n",
       "<style scoped>\n",
       "    .dataframe tbody tr th:only-of-type {\n",
       "        vertical-align: middle;\n",
       "    }\n",
       "\n",
       "    .dataframe tbody tr th {\n",
       "        vertical-align: top;\n",
       "    }\n",
       "\n",
       "    .dataframe thead th {\n",
       "        text-align: right;\n",
       "    }\n",
       "</style>\n",
       "<table border=\"1\" class=\"dataframe\">\n",
       "  <thead>\n",
       "    <tr style=\"text-align: right;\">\n",
       "      <th></th>\n",
       "      <th>CAD Event Number</th>\n",
       "      <th>Event Clearance Description</th>\n",
       "      <th>Call Type</th>\n",
       "      <th>Priority</th>\n",
       "      <th>Initial Call Type</th>\n",
       "      <th>Final Call Type</th>\n",
       "      <th>Original Time Queued</th>\n",
       "      <th>Arrived Time</th>\n",
       "      <th>Precinct</th>\n",
       "      <th>Sector</th>\n",
       "      <th>Beat</th>\n",
       "      <th>Blurred_Longitude</th>\n",
       "      <th>Blurred_Latitude</th>\n",
       "    </tr>\n",
       "  </thead>\n",
       "  <tbody>\n",
       "    <tr>\n",
       "      <th>0</th>\n",
       "      <td>2010000369640</td>\n",
       "      <td>ASSISTANCE RENDERED</td>\n",
       "      <td>ONVIEW</td>\n",
       "      <td>7.0</td>\n",
       "      <td>SUSPICIOUS STOP - OFFICER INITIATED ONVIEW</td>\n",
       "      <td>--SUSPICIOUS CIRCUM. - SUSPICIOUS VEHICLE</td>\n",
       "      <td>10/22/2010 03:24:56 PM</td>\n",
       "      <td>10/22/2010 03:24:56 PM</td>\n",
       "      <td>SOUTH</td>\n",
       "      <td>ROBERT</td>\n",
       "      <td>R1</td>\n",
       "      <td>-122.317589</td>\n",
       "      <td>47.559422</td>\n",
       "    </tr>\n",
       "    <tr>\n",
       "      <th>1</th>\n",
       "      <td>2012000444403</td>\n",
       "      <td>ASSISTANCE RENDERED</td>\n",
       "      <td>911</td>\n",
       "      <td>1.0</td>\n",
       "      <td>DIST - IP/JO - DV DIST - NO ASLT</td>\n",
       "      <td>--DV - ARGUMENTS, DISTURBANCE (NO ARREST)</td>\n",
       "      <td>12/30/2012 03:04:14 PM</td>\n",
       "      <td>12/30/2012 03:39:08 PM</td>\n",
       "      <td>SOUTH</td>\n",
       "      <td>SAM</td>\n",
       "      <td>S1</td>\n",
       "      <td>-122.291454</td>\n",
       "      <td>47.532386</td>\n",
       "    </tr>\n",
       "    <tr>\n",
       "      <th>2</th>\n",
       "      <td>2010000091968</td>\n",
       "      <td>NO POLICE ACTION POSSIBLE OR NECESSARY</td>\n",
       "      <td>ONVIEW</td>\n",
       "      <td>7.0</td>\n",
       "      <td>TRAFFIC STOP - OFFICER INITIATED ONVIEW</td>\n",
       "      <td>--TRAFFIC - MOVING VIOLATION</td>\n",
       "      <td>03/20/2010 01:16:08 PM</td>\n",
       "      <td>03/20/2010 01:16:08 PM</td>\n",
       "      <td>SOUTH</td>\n",
       "      <td>SAM</td>\n",
       "      <td>S1</td>\n",
       "      <td>-122.303477</td>\n",
       "      <td>47.542854</td>\n",
       "    </tr>\n",
       "    <tr>\n",
       "      <th>3</th>\n",
       "      <td>2015000221085</td>\n",
       "      <td>FALSE COMPLAINT/UNFOUNDED</td>\n",
       "      <td>ALARM CALL (NOT POLICE ALARM)</td>\n",
       "      <td>3.0</td>\n",
       "      <td>ALARM - RESIDENTIAL - BURGLARY, SILENT/AUDIBLE</td>\n",
       "      <td>--ALARM-RESIDENTIAL BURG</td>\n",
       "      <td>06/30/2015 10:29:43 AM</td>\n",
       "      <td>06/30/2015 12:17:11 PM</td>\n",
       "      <td>SOUTH</td>\n",
       "      <td>ROBERT</td>\n",
       "      <td>R1</td>\n",
       "      <td>-122.308633</td>\n",
       "      <td>47.559024</td>\n",
       "    </tr>\n",
       "    <tr>\n",
       "      <th>4</th>\n",
       "      <td>2011000257876</td>\n",
       "      <td>UNABLE TO LOCATE INCIDENT OR COMPLAINANT</td>\n",
       "      <td>TELEPHONE OTHER, NOT 911</td>\n",
       "      <td>3.0</td>\n",
       "      <td>TRAFFIC - MOVING VIOLATION</td>\n",
       "      <td>--TRAFFIC - MOVING VIOLATION</td>\n",
       "      <td>08/07/2011 12:52:06 PM</td>\n",
       "      <td>NaN</td>\n",
       "      <td>SOUTH</td>\n",
       "      <td>ROBERT</td>\n",
       "      <td>R2</td>\n",
       "      <td>-122.293512</td>\n",
       "      <td>47.560821</td>\n",
       "    </tr>\n",
       "  </tbody>\n",
       "</table>\n",
       "</div>"
      ],
      "text/plain": [
       "   CAD Event Number               Event Clearance Description   \n",
       "0     2010000369640                       ASSISTANCE RENDERED  \\\n",
       "1     2012000444403                       ASSISTANCE RENDERED   \n",
       "2     2010000091968    NO POLICE ACTION POSSIBLE OR NECESSARY   \n",
       "3     2015000221085                 FALSE COMPLAINT/UNFOUNDED   \n",
       "4     2011000257876  UNABLE TO LOCATE INCIDENT OR COMPLAINANT   \n",
       "\n",
       "                       Call Type  Priority   \n",
       "0                         ONVIEW       7.0  \\\n",
       "1                            911       1.0   \n",
       "2                         ONVIEW       7.0   \n",
       "3  ALARM CALL (NOT POLICE ALARM)       3.0   \n",
       "4       TELEPHONE OTHER, NOT 911       3.0   \n",
       "\n",
       "                                Initial Call Type   \n",
       "0      SUSPICIOUS STOP - OFFICER INITIATED ONVIEW  \\\n",
       "1                DIST - IP/JO - DV DIST - NO ASLT   \n",
       "2         TRAFFIC STOP - OFFICER INITIATED ONVIEW   \n",
       "3  ALARM - RESIDENTIAL - BURGLARY, SILENT/AUDIBLE   \n",
       "4                      TRAFFIC - MOVING VIOLATION   \n",
       "\n",
       "                             Final Call Type    Original Time Queued   \n",
       "0  --SUSPICIOUS CIRCUM. - SUSPICIOUS VEHICLE  10/22/2010 03:24:56 PM  \\\n",
       "1  --DV - ARGUMENTS, DISTURBANCE (NO ARREST)  12/30/2012 03:04:14 PM   \n",
       "2               --TRAFFIC - MOVING VIOLATION  03/20/2010 01:16:08 PM   \n",
       "3                   --ALARM-RESIDENTIAL BURG  06/30/2015 10:29:43 AM   \n",
       "4               --TRAFFIC - MOVING VIOLATION  08/07/2011 12:52:06 PM   \n",
       "\n",
       "             Arrived Time Precinct  Sector Beat  Blurred_Longitude   \n",
       "0  10/22/2010 03:24:56 PM    SOUTH  ROBERT   R1        -122.317589  \\\n",
       "1  12/30/2012 03:39:08 PM    SOUTH     SAM   S1        -122.291454   \n",
       "2  03/20/2010 01:16:08 PM    SOUTH     SAM   S1        -122.303477   \n",
       "3  06/30/2015 12:17:11 PM    SOUTH  ROBERT   R1        -122.308633   \n",
       "4                     NaN    SOUTH  ROBERT   R2        -122.293512   \n",
       "\n",
       "   Blurred_Latitude  \n",
       "0         47.559422  \n",
       "1         47.532386  \n",
       "2         47.542854  \n",
       "3         47.559024  \n",
       "4         47.560821  "
      ]
     },
     "execution_count": 5,
     "metadata": {},
     "output_type": "execute_result"
    }
   ],
   "source": [
    "import pandas as pd\n",
    "import numpy as np\n",
    "import seaborn as sns\n",
    "import matplotlib.pyplot as plt\n",
    "sns.set(rc = {'figure.figsize': (10, 8)})\n",
    "\n",
    "call_data = pd.read_csv('../data/Call_Data.csv')\n",
    "call_data.head()"
   ]
  },
  {
   "cell_type": "code",
   "execution_count": 2,
   "id": "d64220c6-1af0-4eff-95d9-e20f026c4280",
   "metadata": {},
   "outputs": [
    {
     "data": {
      "text/plain": [
       "71184776"
      ]
     },
     "execution_count": 2,
     "metadata": {},
     "output_type": "execute_result"
    }
   ],
   "source": [
    "call_data.size"
   ]
  },
  {
   "cell_type": "code",
   "execution_count": 3,
   "id": "3057eb03-e5e5-4fbe-8e97-70c39664af84",
   "metadata": {},
   "outputs": [
    {
     "data": {
      "text/plain": [
       "(5475752, 13)"
      ]
     },
     "execution_count": 3,
     "metadata": {},
     "output_type": "execute_result"
    }
   ],
   "source": [
    "call_data.shape"
   ]
  },
  {
   "cell_type": "code",
   "execution_count": 4,
   "id": "9991efeb-833e-4067-a0e6-c37c95de50c3",
   "metadata": {},
   "outputs": [
    {
     "data": {
      "text/plain": [
       "CAD Event Number                 int64\n",
       "Event Clearance Description     object\n",
       "Call Type                       object\n",
       "Priority                       float64\n",
       "Initial Call Type               object\n",
       "Final Call Type                 object\n",
       "Original Time Queued            object\n",
       "Arrived Time                    object\n",
       "Precinct                        object\n",
       "Sector                          object\n",
       "Beat                            object\n",
       "Blurred_Longitude              float64\n",
       "Blurred_Latitude               float64\n",
       "dtype: object"
      ]
     },
     "execution_count": 4,
     "metadata": {},
     "output_type": "execute_result"
    }
   ],
   "source": [
    "call_data.dtypes"
   ]
  },
  {
   "cell_type": "code",
   "execution_count": null,
   "id": "623d2a68-1637-40d9-9a5d-6ea3e5ed9877",
   "metadata": {},
   "outputs": [],
   "source": []
  }
 ],
 "metadata": {
  "kernelspec": {
   "display_name": "local-venv",
   "language": "python",
   "name": "local-venv"
  },
  "language_info": {
   "codemirror_mode": {
    "name": "ipython",
    "version": 3
   },
   "file_extension": ".py",
   "mimetype": "text/x-python",
   "name": "python",
   "nbconvert_exporter": "python",
   "pygments_lexer": "ipython3",
   "version": "3.9.13"
  }
 },
 "nbformat": 4,
 "nbformat_minor": 5
}
